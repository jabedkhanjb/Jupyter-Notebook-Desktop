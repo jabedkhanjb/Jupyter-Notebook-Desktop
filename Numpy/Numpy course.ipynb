{
 "cells": [
  {
   "cell_type": "markdown",
   "id": "5b9889ae",
   "metadata": {},
   "source": [
    "# Numpy "
   ]
  },
  {
   "cell_type": "markdown",
   "id": "78028100",
   "metadata": {},
   "source": [
    "# Numpy Array Split\n"
   ]
  },
  {
   "cell_type": "markdown",
   "id": "78a3cac2",
   "metadata": {},
   "source": [
    "here in this code we can split an array into seperated arrays"
   ]
  },
  {
   "cell_type": "code",
   "execution_count": 12,
   "id": "8044d62b",
   "metadata": {},
   "outputs": [
    {
     "name": "stdout",
     "output_type": "stream",
     "text": [
      "[array([8]), array([1]), array([5]), array([3]), array([9]), array([6]), array([4]), array([3]), array([2])]\n"
     ]
    }
   ],
   "source": [
    "import numpy as np\n",
    "\n",
    "array1d = [8,1,5,3,9,6,4,3,2]\n",
    "\n",
    "s1d = np.array_split(array1d, 9)\n",
    "\n",
    "print(s1d)"
   ]
  },
  {
   "cell_type": "markdown",
   "id": "217a1224",
   "metadata": {},
   "source": [
    "#### Split into Arrays "
   ]
  },
  {
   "cell_type": "code",
   "execution_count": 14,
   "id": "e81f56ca",
   "metadata": {},
   "outputs": [
    {
     "name": "stdout",
     "output_type": "stream",
     "text": [
      "[6]\n"
     ]
    }
   ],
   "source": [
    "print(s1d[5])"
   ]
  },
  {
   "cell_type": "markdown",
   "id": "daae7701",
   "metadata": {},
   "source": [
    "as we can see above that the first code split the array into 9. so the number of array is 9 and each array has only one element. when we are assiging the value to print the dedicated array by putting number.\n",
    "here we called the 5 number array when has the element 6. that's it."
   ]
  },
  {
   "cell_type": "markdown",
   "id": "3e7b3267",
   "metadata": {},
   "source": [
    "#### Splitting 2D Arrays"
   ]
  },
  {
   "cell_type": "code",
   "execution_count": 23,
   "id": "0e219c9c",
   "metadata": {},
   "outputs": [
    {
     "name": "stdout",
     "output_type": "stream",
     "text": [
      "[array([[1, 2, 3],\n",
      "       [4, 5, 6]]), array([[7, 8, 9]]), array([[10, 11, 12]])]\n",
      "[array([list([1, 2, 3]), list([4, 5, 6]), list([7, 8, 9]),\n",
      "       list([10, 11, 12])], dtype=object), array([list([13, 14, 15]), list([16, 17.18]), list([19, 20, 21]),\n",
      "       list([22, 23, 24])], dtype=object)]\n"
     ]
    },
    {
     "name": "stderr",
     "output_type": "stream",
     "text": [
      "C:\\Users\\Jabed Khan\\AppData\\Local\\Temp\\ipykernel_7616\\1787178339.py:7: VisibleDeprecationWarning: Creating an ndarray from ragged nested sequences (which is a list-or-tuple of lists-or-tuples-or ndarrays with different lengths or shapes) is deprecated. If you meant to do this, you must specify 'dtype=object' when creating the ndarray.\n",
      "  array = np.array([[1,2,3], [4,5,6], [7,8,9], [10,11,12], [13,14,15], [16,17.18], [19,20,21], [22,23,24]])\n"
     ]
    }
   ],
   "source": [
    "import numpy as np\n",
    "arr = np.array([[1,2,3], [4,5,6], [7,8,9], [10,11,12]])\n",
    "newarr = np.array_split(arr,3)\n",
    "print(newarr)\n",
    "\n",
    "import numpy as np\n",
    "array = np.array([[1,2,3], [4,5,6], [7,8,9], [10,11,12], [13,14,15], [16,17.18], [19,20,21], [22,23,24]])\n",
    "\n",
    "s2d = np.array_split(array, 2)\n",
    "\n",
    "print(s2d)"
   ]
  },
  {
   "cell_type": "code",
   "execution_count": null,
   "id": "d8ee0c8e",
   "metadata": {},
   "outputs": [],
   "source": []
  }
 ],
 "metadata": {
  "kernelspec": {
   "display_name": "Python 3 (ipykernel)",
   "language": "python",
   "name": "python3"
  },
  "language_info": {
   "codemirror_mode": {
    "name": "ipython",
    "version": 3
   },
   "file_extension": ".py",
   "mimetype": "text/x-python",
   "name": "python",
   "nbconvert_exporter": "python",
   "pygments_lexer": "ipython3",
   "version": "3.9.13"
  }
 },
 "nbformat": 4,
 "nbformat_minor": 5
}
