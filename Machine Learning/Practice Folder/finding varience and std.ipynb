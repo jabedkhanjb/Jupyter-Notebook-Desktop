{
 "cells": [
  {
   "cell_type": "code",
   "execution_count": 2,
   "id": "b9fc7c80",
   "metadata": {},
   "outputs": [
    {
     "name": "stdout",
     "output_type": "stream",
     "text": [
      "11.36\n",
      "3.370459909270543\n"
     ]
    }
   ],
   "source": [
    "import numpy\n",
    "\n",
    "values = [10, 11, 9, 17, 7]\n",
    "\n",
    "print(numpy.var(values))\n",
    "print(numpy.std(values))"
   ]
  },
  {
   "cell_type": "code",
   "execution_count": null,
   "id": "147cfaa3",
   "metadata": {},
   "outputs": [],
   "source": []
  }
 ],
 "metadata": {
  "kernelspec": {
   "display_name": "Python 3 (ipykernel)",
   "language": "python",
   "name": "python3"
  },
  "language_info": {
   "codemirror_mode": {
    "name": "ipython",
    "version": 3
   },
   "file_extension": ".py",
   "mimetype": "text/x-python",
   "name": "python",
   "nbconvert_exporter": "python",
   "pygments_lexer": "ipython3",
   "version": "3.9.13"
  }
 },
 "nbformat": 4,
 "nbformat_minor": 5
}
