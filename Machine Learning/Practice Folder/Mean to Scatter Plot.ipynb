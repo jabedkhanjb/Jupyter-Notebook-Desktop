{
 "cells": [
  {
   "cell_type": "markdown",
   "id": "38d4a4bb",
   "metadata": {},
   "source": [
    "## Mean Median Mode to Scatter Plot\n"
   ]
  },
  {
   "cell_type": "markdown",
   "id": "be42a940",
   "metadata": {},
   "source": [
    "#### Mean Median Mode"
   ]
  },
  {
   "cell_type": "code",
   "execution_count": 8,
   "id": "68d0c52b",
   "metadata": {},
   "outputs": [
    {
     "name": "stdout",
     "output_type": "stream",
     "text": [
      "Mean: 50.24, Median: 48.0, Mode: ModeResult(mode=array([15]), count=array([3]))\n"
     ]
    },
    {
     "name": "stderr",
     "output_type": "stream",
     "text": [
      "C:\\Users\\Jabed Khan\\AppData\\Local\\Temp\\ipykernel_12092\\2795941724.py:8: FutureWarning: Unlike other reduction functions (e.g. `skew`, `kurtosis`), the default behavior of `mode` typically preserves the axis it acts along. In SciPy 1.11.0, this behavior will change: the default value of `keepdims` will become False, the `axis` over which the statistic is taken will be eliminated, and the value None will no longer be accepted. Set `keepdims` to True or False to avoid this warning.\n",
      "  z = stats.mode(numbers)\n"
     ]
    }
   ],
   "source": [
    "import numpy as np\n",
    "from scipy import stats\n",
    "\n",
    "numbers = [25, 26, 12, 42, 85, 36, 15, 94, 75, 19, 42, 95, 15, 78, 48, 65, 84, 82, 15, 13, 75, 96, 48, 50, 21]\n",
    "\n",
    "x = np.mean(numbers)\n",
    "y = np.median(numbers)\n",
    "z = stats.mode(numbers)\n",
    "\n",
    "print(f\"Mean: {x}, Median: {y}, Mode: {z}\")"
   ]
  },
  {
   "cell_type": "markdown",
   "id": "d18c85b6",
   "metadata": {},
   "source": [
    "#### Standard Deviation & Variance"
   ]
  },
  {
   "cell_type": "code",
   "execution_count": 14,
   "id": "399f6947",
   "metadata": {},
   "outputs": [
    {
     "name": "stdout",
     "output_type": "stream",
     "text": [
      "Variance: 896.01\n"
     ]
    }
   ],
   "source": [
    "# Finding Variance\n",
    "\n",
    "value = [25, 26, 12, 42, 85, 36, 15, 94, 75, 19, 42, 95, 15, 78, 48, 65, 84, 82, 15, 13]\n",
    "x = np.var(value)\n",
    "print(f\"Variance: {x}\")\n"
   ]
  },
  {
   "cell_type": "code",
   "execution_count": 15,
   "id": "ca680698",
   "metadata": {},
   "outputs": [
    {
     "name": "stdout",
     "output_type": "stream",
     "text": [
      "Standard Deviation: 29.933426132001664\n"
     ]
    }
   ],
   "source": [
    "# Finding Standard Deviation which is the root square of Variance\n",
    "# or we can define \"np.std(x)\", answer remain same since standard deviation is \n",
    "# the root square of the following result\n",
    "y = np.std(value) \n",
    "print(f\"Standard Deviation: {y}\")"
   ]
  },
  {
   "cell_type": "markdown",
   "id": "0f139286",
   "metadata": {},
   "source": [
    "#### Percentile"
   ]
  },
  {
   "cell_type": "code",
   "execution_count": 19,
   "id": "cd076052",
   "metadata": {},
   "outputs": [
    {
     "name": "stdout",
     "output_type": "stream",
     "text": [
      "Percentile: 14.4\n"
     ]
    }
   ],
   "source": [
    "# Finding Percentile\n",
    "\n",
    "percentile = [12, 14, 15, 18, 20, 25, 29, 35]\n",
    "y = np.percentile(percentile, 20)\n",
    "print(f\"Percentile: {y}\")"
   ]
  },
  {
   "cell_type": "markdown",
   "id": "8cb915b7",
   "metadata": {},
   "source": [
    "#### Data Distribution"
   ]
  },
  {
   "cell_type": "code",
   "execution_count": 21,
   "id": "38f140d6",
   "metadata": {},
   "outputs": [
    {
     "name": "stdout",
     "output_type": "stream",
     "text": [
      "Random Dataset has been Generated below: \n",
      "[2.86030016 4.81757716 2.40762142 3.8415137  2.62984046 2.61350254\n",
      " 1.18963878 1.69685054 2.79117245 4.24437834 3.44132817 2.71249378\n",
      " 2.49579304 4.09714641 2.55640521 2.09513054 1.97441418 4.97200866\n",
      " 3.63831996 3.14860134 1.686881   2.90545281 4.11799583 4.8568492\n",
      " 4.28844584 2.3375078  2.98442987 1.74637941 3.23755712 2.22414922\n",
      " 3.26421737 2.43493722 1.66423492 3.70786586 3.28652579 4.64812676\n",
      " 4.91246075 3.2832953  4.17692275 4.1721361  3.15380785 3.53382806\n",
      " 4.08851112 4.20427755 2.98273018 2.53675727 3.20241528 1.62384062\n",
      " 2.03579409 3.40941114 1.93730498 3.42173522 2.84579916 2.1619261\n",
      " 1.69644002 2.14962089 2.845998   4.00679747 2.35263695 3.9305367\n",
      " 1.16111356 2.08733032 1.78528956 2.56490457 3.47424309 3.36699017\n",
      " 2.60123382 1.2374267  3.47499194 1.89152834 2.33389998 1.61295976\n",
      " 3.57895812 4.61391766 2.82850876 1.92666236 1.59435801 2.87643258\n",
      " 4.1841653  2.35574349 2.27669085 1.97840463 3.76576589 2.77498397\n",
      " 1.58900726 2.47886639 2.7870367  3.88224848 1.09834859 1.51950452\n",
      " 3.29788086 4.3988328  3.98977431 3.43759288 1.67509348 4.56965423\n",
      " 1.52489449 2.04064034 1.58877608 1.00378755 3.0826783  1.72140723\n",
      " 2.19370983 4.92642969 1.11532499 4.70771338 1.84590272 1.56325003\n",
      " 2.09282475 1.16553454 1.58207767 1.21246607 4.72671882 3.13246912\n",
      " 4.37091548 4.3111743  1.70564336 1.65984845 2.72046575 3.82474423\n",
      " 3.45443286 3.77253088 1.64425296 3.55066604 2.35812732 3.47002218\n",
      " 3.8797603  2.20973488 3.99997983 4.426183   1.62159054 1.25865344\n",
      " 4.13707348 4.91975631 1.20929615 3.39481492 1.21251096 2.1162369\n",
      " 3.70053226 3.53308084 2.05604332 1.82083149 4.58199947 2.27423354\n",
      " 2.96674248 3.33482697 2.42240739 4.02263384 3.36042847 4.71758367\n",
      " 4.36671331 2.34802685 1.93889898 3.10025424 2.54232308 3.026163\n",
      " 3.69902927 3.25781979 1.30052372 2.01644339 4.93338442 2.59317779\n",
      " 4.42817538 3.06231726 3.47011287 4.98614639 1.88963147 4.80054432\n",
      " 1.69596367 3.85343148 1.5680894  3.93308804 2.13816207 3.51371049\n",
      " 4.03864464 4.62432013 1.36575147 3.07723056 4.10025032 1.8815526\n",
      " 4.94020467 4.3724227  1.08684868 4.73351245 3.7151374  2.32065649\n",
      " 4.01471982 2.00812258 4.11918163 3.71422395 3.14055617 2.0101903\n",
      " 4.09456094 3.77832724 2.93972212 3.49676106 1.00479549 1.55640343\n",
      " 4.34141008 1.6846995  1.79651502 3.20651047 1.60826343 3.17681889\n",
      " 1.74655026 2.11115718 3.34968839 1.96337981 3.28232933 1.23542844\n",
      " 2.01660978 2.98819454 1.25073482 4.35947762 2.43916275 1.74661427\n",
      " 3.06637267 4.97534182 1.30806799 1.49106308 2.60520647 4.11533637\n",
      " 4.25822888 2.97233043 4.01203005 3.41224511 4.88864791 2.52566343\n",
      " 3.48565508 2.07963835 2.45657429 2.44436004 3.16139881 4.37218833\n",
      " 1.59951597 1.05863563 2.78504879 2.04718741 3.08756095 1.05786746\n",
      " 1.05949702 1.18366549 2.74691492 2.75501583 4.56088148 2.47147245\n",
      " 2.12002775 3.9572147  3.68174434 4.15623865]\n"
     ]
    }
   ],
   "source": [
    "# Generate Big Dataset\n",
    "\n",
    "import numpy as np\n",
    "\n",
    "dataset = np.random.uniform(1.0, 5.0, 250)\n",
    "print(f\"Random Dataset has been Generated below: \\n{dataset}\")"
   ]
  },
  {
   "cell_type": "markdown",
   "id": "4589cc6a",
   "metadata": {},
   "source": [
    "#### Histogram using Matplotlib"
   ]
  },
  {
   "cell_type": "code",
   "execution_count": 25,
   "id": "75e181ba",
   "metadata": {},
   "outputs": [
    {
     "ename": "AttributeError",
     "evalue": "module 'matplotlib' has no attribute 'hist'",
     "output_type": "error",
     "traceback": [
      "\u001b[1;31m---------------------------------------------------------------------------\u001b[0m",
      "\u001b[1;31mAttributeError\u001b[0m                            Traceback (most recent call last)",
      "\u001b[1;32m~\\AppData\\Local\\Temp\\ipykernel_12092\\3182022720.py\u001b[0m in \u001b[0;36m<module>\u001b[1;34m\u001b[0m\n\u001b[0;32m      3\u001b[0m \u001b[1;33m\u001b[0m\u001b[0m\n\u001b[0;32m      4\u001b[0m \u001b[0mmydataset\u001b[0m \u001b[1;33m=\u001b[0m \u001b[0mnumpy\u001b[0m\u001b[1;33m.\u001b[0m\u001b[0mrandom\u001b[0m\u001b[1;33m.\u001b[0m\u001b[0muniform\u001b[0m\u001b[1;33m(\u001b[0m\u001b[1;36m1.0\u001b[0m\u001b[1;33m,\u001b[0m \u001b[1;36m10.0\u001b[0m\u001b[1;33m,\u001b[0m \u001b[1;36m250\u001b[0m\u001b[1;33m)\u001b[0m\u001b[1;33m\u001b[0m\u001b[1;33m\u001b[0m\u001b[0m\n\u001b[1;32m----> 5\u001b[1;33m \u001b[0mmpl\u001b[0m\u001b[1;33m.\u001b[0m\u001b[0mhist\u001b[0m\u001b[1;33m(\u001b[0m\u001b[0mmydataset\u001b[0m\u001b[1;33m,\u001b[0m \u001b[1;36m5\u001b[0m\u001b[1;33m)\u001b[0m\u001b[1;33m\u001b[0m\u001b[1;33m\u001b[0m\u001b[0m\n\u001b[0m\u001b[0;32m      6\u001b[0m \u001b[0mmpl\u001b[0m\u001b[1;33m.\u001b[0m\u001b[0mshow\u001b[0m\u001b[1;33m(\u001b[0m\u001b[1;33m)\u001b[0m\u001b[1;33m\u001b[0m\u001b[1;33m\u001b[0m\u001b[0m\n",
      "\u001b[1;32mD:\\Anaconda3\\lib\\site-packages\\matplotlib\\_api\\__init__.py\u001b[0m in \u001b[0;36m__getattr__\u001b[1;34m(name)\u001b[0m\n\u001b[0;32m    220\u001b[0m         \u001b[1;32mif\u001b[0m \u001b[0mname\u001b[0m \u001b[1;32min\u001b[0m \u001b[0mprops\u001b[0m\u001b[1;33m:\u001b[0m\u001b[1;33m\u001b[0m\u001b[1;33m\u001b[0m\u001b[0m\n\u001b[0;32m    221\u001b[0m             \u001b[1;32mreturn\u001b[0m \u001b[0mprops\u001b[0m\u001b[1;33m[\u001b[0m\u001b[0mname\u001b[0m\u001b[1;33m]\u001b[0m\u001b[1;33m.\u001b[0m\u001b[0m__get__\u001b[0m\u001b[1;33m(\u001b[0m\u001b[0minstance\u001b[0m\u001b[1;33m)\u001b[0m\u001b[1;33m\u001b[0m\u001b[1;33m\u001b[0m\u001b[0m\n\u001b[1;32m--> 222\u001b[1;33m         raise AttributeError(\n\u001b[0m\u001b[0;32m    223\u001b[0m             f\"module {cls.__module__!r} has no attribute {name!r}\")\n\u001b[0;32m    224\u001b[0m \u001b[1;33m\u001b[0m\u001b[0m\n",
      "\u001b[1;31mAttributeError\u001b[0m: module 'matplotlib' has no attribute 'hist'"
     ]
    }
   ],
   "source": [
    "import numpy\n",
    "import matplotlib as mpl\n",
    "\n",
    "mydataset = numpy.random.uniform(1.0, 10.0, 250)\n",
    "mpl.hist(mydataset, 5)\n",
    "mpl.show()"
   ]
  },
  {
   "cell_type": "code",
   "execution_count": null,
   "id": "3dd02d63",
   "metadata": {},
   "outputs": [],
   "source": []
  }
 ],
 "metadata": {
  "kernelspec": {
   "display_name": "Python 3 (ipykernel)",
   "language": "python",
   "name": "python3"
  },
  "language_info": {
   "codemirror_mode": {
    "name": "ipython",
    "version": 3
   },
   "file_extension": ".py",
   "mimetype": "text/x-python",
   "name": "python",
   "nbconvert_exporter": "python",
   "pygments_lexer": "ipython3",
   "version": "3.9.13"
  }
 },
 "nbformat": 4,
 "nbformat_minor": 5
}
