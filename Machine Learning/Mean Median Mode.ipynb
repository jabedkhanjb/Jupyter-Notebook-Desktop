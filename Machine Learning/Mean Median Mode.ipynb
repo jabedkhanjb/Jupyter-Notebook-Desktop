{
 "cells": [
  {
   "cell_type": "markdown",
   "id": "0c3a1ff3",
   "metadata": {},
   "source": [
    "## Machine Learning\n"
   ]
  },
  {
   "cell_type": "code",
   "execution_count": 11,
   "id": "c5859543",
   "metadata": {},
   "outputs": [],
   "source": [
    "import numpy\n",
    "\n",
    "speed = [39, 30, 45, 48, 43, 54, 90, 98, 49, 54, 57, 67, 39, 43, 54, 92, 29, 48, 54, 95, 45, 54]\n",
    "\n"
   ]
  },
  {
   "cell_type": "markdown",
   "id": "d2354c2e",
   "metadata": {},
   "source": [
    "<h6> mean - The average value </h6>"
   ]
  },
  {
   "cell_type": "code",
   "execution_count": 3,
   "id": "90e8036e",
   "metadata": {},
   "outputs": [
    {
     "name": "stdout",
     "output_type": "stream",
     "text": [
      "55.77272727272727\n"
     ]
    }
   ],
   "source": [
    "avg = numpy.mean(speed)\n",
    "print(avg)"
   ]
  },
  {
   "cell_type": "markdown",
   "id": "c53b17f3",
   "metadata": {},
   "source": [
    "<h6> median - The mid point value"
   ]
  },
  {
   "cell_type": "code",
   "execution_count": 5,
   "id": "499ed719",
   "metadata": {},
   "outputs": [
    {
     "name": "stdout",
     "output_type": "stream",
     "text": [
      "51.5\n"
     ]
    }
   ],
   "source": [
    "mid = numpy.median(speed)\n",
    "print(mid)"
   ]
  },
  {
   "cell_type": "markdown",
   "id": "51722e41",
   "metadata": {},
   "source": [
    "<h6> mode - The most common value </h6>"
   ]
  },
  {
   "cell_type": "code",
   "execution_count": 12,
   "id": "320a18e0",
   "metadata": {},
   "outputs": [
    {
     "name": "stdout",
     "output_type": "stream",
     "text": [
      "ModeResult(mode=array([54]), count=array([5]))\n"
     ]
    },
    {
     "name": "stderr",
     "output_type": "stream",
     "text": [
      "C:\\Users\\Jabed Khan\\AppData\\Local\\Temp\\ipykernel_10552\\2260529817.py:2: FutureWarning: Unlike other reduction functions (e.g. `skew`, `kurtosis`), the default behavior of `mode` typically preserves the axis it acts along. In SciPy 1.11.0, this behavior will change: the default value of `keepdims` will become False, the `axis` over which the statistic is taken will be eliminated, and the value None will no longer be accepted. Set `keepdims` to True or False to avoid this warning.\n",
      "  most = stats.mode(speed)\n"
     ]
    }
   ],
   "source": [
    "from scipy import stats\n",
    "most = stats.mode(speed)\n",
    "print(most)"
   ]
  },
  {
   "cell_type": "code",
   "execution_count": null,
   "id": "ddf58ea2",
   "metadata": {},
   "outputs": [],
   "source": []
  }
 ],
 "metadata": {
  "kernelspec": {
   "display_name": "Python 3 (ipykernel)",
   "language": "python",
   "name": "python3"
  },
  "language_info": {
   "codemirror_mode": {
    "name": "ipython",
    "version": 3
   },
   "file_extension": ".py",
   "mimetype": "text/x-python",
   "name": "python",
   "nbconvert_exporter": "python",
   "pygments_lexer": "ipython3",
   "version": "3.9.13"
  }
 },
 "nbformat": 4,
 "nbformat_minor": 5
}
