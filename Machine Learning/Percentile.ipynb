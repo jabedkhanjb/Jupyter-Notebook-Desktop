{
 "cells": [
  {
   "cell_type": "markdown",
   "id": "f61c44dd",
   "metadata": {},
   "source": [
    "## Percentile"
   ]
  },
  {
   "cell_type": "markdown",
   "id": "43e4815f",
   "metadata": {},
   "source": [
    "<h4> <i> Percentiles are used in statistics to give you a number that describes the value that a given percent of the values are lower than. </i> </h4>"
   ]
  },
  {
   "cell_type": "code",
   "execution_count": 4,
   "id": "9638bfcd",
   "metadata": {},
   "outputs": [
    {
     "name": "stdout",
     "output_type": "stream",
     "text": [
      "75 people's average age is 21.0\n"
     ]
    }
   ],
   "source": [
    "import numpy as np\n",
    "\n",
    "ages = [4, 9, 22, 31, 18, 16]\n",
    "\n",
    "finding_percentage = 75\n",
    "percent = np.percentile(ages, finding_percentage)\n",
    "\n",
    "print(f\"{finding_percentage} people's average age is {percent}\")"
   ]
  },
  {
   "cell_type": "code",
   "execution_count": 9,
   "id": "46849be9",
   "metadata": {},
   "outputs": [
    {
     "name": "stdout",
     "output_type": "stream",
     "text": [
      "100 people's average age is 82.0\n"
     ]
    }
   ],
   "source": [
    "import numpy as np\n",
    "\n",
    "ages = [5,31,43,48,50,41,11,15,39,80,82,32,2,8,6,25,36,27,61,31]\n",
    "\n",
    "finding_percentage = 100\n",
    "percent = np.percentile(ages, finding_percentage)\n",
    "\n",
    "print(f\"{finding_percentage} people's average age is {percent}\")"
   ]
  },
  {
   "cell_type": "code",
   "execution_count": null,
   "id": "5b7b6aa2",
   "metadata": {},
   "outputs": [],
   "source": []
  }
 ],
 "metadata": {
  "kernelspec": {
   "display_name": "Python 3 (ipykernel)",
   "language": "python",
   "name": "python3"
  },
  "language_info": {
   "codemirror_mode": {
    "name": "ipython",
    "version": 3
   },
   "file_extension": ".py",
   "mimetype": "text/x-python",
   "name": "python",
   "nbconvert_exporter": "python",
   "pygments_lexer": "ipython3",
   "version": "3.9.13"
  }
 },
 "nbformat": 4,
 "nbformat_minor": 5
}
