{
 "cells": [
  {
   "cell_type": "markdown",
   "id": "d11e788f",
   "metadata": {},
   "source": [
    "# Standard Deviation"
   ]
  },
  {
   "cell_type": "markdown",
   "id": "69803dfb",
   "metadata": {},
   "source": [
    "<i> NumPy std() method is to find the standard deviation </i>"
   ]
  },
  {
   "cell_type": "code",
   "execution_count": 12,
   "id": "8c6ef06c",
   "metadata": {},
   "outputs": [
    {
     "name": "stdout",
     "output_type": "stream",
     "text": [
      "Standard Deviation value is 3.2379584617471546\n"
     ]
    }
   ],
   "source": [
    "import numpy\n",
    "\n",
    "speed = [89, 88, 84, 90, 87, 88, 92, 81]\n",
    "\n",
    "\n",
    "\n",
    "standard_deviation = numpy.std(speed)\n",
    "print(f\"Standard Deviation value is {standard_deviation}\")"
   ]
  },
  {
   "cell_type": "markdown",
   "id": "40371270",
   "metadata": {},
   "source": [
    "<i> find out the mean value </i>"
   ]
  },
  {
   "cell_type": "code",
   "execution_count": 18,
   "id": "eac06398",
   "metadata": {},
   "outputs": [
    {
     "name": "stdout",
     "output_type": "stream",
     "text": [
      "Mean value is 77.42857142857143\n"
     ]
    }
   ],
   "source": [
    "mean_value = numpy.mean(speed)\n",
    "print(f\"Mean value is {mean_value}\")"
   ]
  },
  {
   "cell_type": "code",
   "execution_count": 22,
   "id": "8762c826",
   "metadata": {},
   "outputs": [
    {
     "name": "stdout",
     "output_type": "stream",
     "text": [
      "Mean value: 77.42857142857143\n",
      "SD: 37.84501153334721\n"
     ]
    }
   ],
   "source": [
    "speed = [32,111,138,28,59,77,97]\n",
    "SD = numpy.std(speed)\n",
    "MEAN = numpy.mean(speed)\n",
    "print(f\"Mean value: {MEAN}\")\n",
    "print(f\"SD: {SD}\")"
   ]
  },
  {
   "cell_type": "markdown",
   "id": "ce59478f",
   "metadata": {},
   "source": [
    "#### Now Let's findout the Variance"
   ]
  },
  {
   "cell_type": "code",
   "execution_count": 21,
   "id": "af1cc41c",
   "metadata": {},
   "outputs": [
    {
     "name": "stdout",
     "output_type": "stream",
     "text": [
      "Variance: 1432.2448979591834\n"
     ]
    }
   ],
   "source": [
    "Varspeed = [32,111,138,28,59,77,97]\n",
    "\n",
    "VAR = numpy.var(Varspeed)\n",
    "print(f\"Variance: {VAR}\")"
   ]
  },
  {
   "cell_type": "markdown",
   "id": "49ae53db",
   "metadata": {},
   "source": [
    "<h3> formula of finding variance: </h3>\n",
    "<i>\n",
    "σ^2 = (Σ(xi - mean)^2)/N \n",
    "\n",
    "xi = every single number in this array\n",
    "mean = mean value\n",
    "N = total number in this array\n",
    "\n",
    "tutorial link (https://youtu.be/hwN2kQO8gkA)\n",
    "    \n",
    "Standard Deviation is the root square of Variance.\n",
    "Formula: σ, or root square of Variance. ( √Variance )\n",
    "</i>\n",
    "\n"
   ]
  },
  {
   "cell_type": "code",
   "execution_count": null,
   "id": "01d26cb1",
   "metadata": {},
   "outputs": [],
   "source": []
  }
 ],
 "metadata": {
  "kernelspec": {
   "display_name": "Python 3 (ipykernel)",
   "language": "python",
   "name": "python3"
  },
  "language_info": {
   "codemirror_mode": {
    "name": "ipython",
    "version": 3
   },
   "file_extension": ".py",
   "mimetype": "text/x-python",
   "name": "python",
   "nbconvert_exporter": "python",
   "pygments_lexer": "ipython3",
   "version": "3.9.13"
  }
 },
 "nbformat": 4,
 "nbformat_minor": 5
}
