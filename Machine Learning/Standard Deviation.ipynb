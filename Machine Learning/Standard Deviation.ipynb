{
 "cells": [
  {
   "cell_type": "markdown",
   "id": "fb064aaf",
   "metadata": {},
   "source": [
    "# Standard Deviation"
   ]
  },
  {
   "cell_type": "markdown",
   "id": "fed99504",
   "metadata": {},
   "source": [
    "<i> NumPy std() method is to find the standard deviation </i>"
   ]
  },
  {
   "cell_type": "code",
   "execution_count": 9,
   "id": "6b0cf95b",
   "metadata": {},
   "outputs": [
    {
     "name": "stdout",
     "output_type": "stream",
     "text": [
      "Standard Deviation value is 3.2379584617471546\n"
     ]
    }
   ],
   "source": [
    "import numpy\n",
    "\n",
    "speed = [89, 88, 84, 90, 87, 88, 92, 81]\n",
    "\n",
    "\n",
    "\n",
    "standard_deviation = numpy.std(speed)\n",
    "print(f\"Standard Deviation value is {standard_deviation}\")"
   ]
  },
  {
   "cell_type": "markdown",
   "id": "a4df650d",
   "metadata": {},
   "source": [
    "<i> find out the mean value of"
   ]
  }
 ],
 "metadata": {
  "kernelspec": {
   "display_name": "Python 3 (ipykernel)",
   "language": "python",
   "name": "python3"
  },
  "language_info": {
   "codemirror_mode": {
    "name": "ipython",
    "version": 3
   },
   "file_extension": ".py",
   "mimetype": "text/x-python",
   "name": "python",
   "nbconvert_exporter": "python",
   "pygments_lexer": "ipython3",
   "version": "3.9.13"
  }
 },
 "nbformat": 4,
 "nbformat_minor": 5
}
