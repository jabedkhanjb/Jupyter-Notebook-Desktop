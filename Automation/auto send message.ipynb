{
 "cells": [
  {
   "cell_type": "code",
   "execution_count": 4,
   "id": "3b77e93b",
   "metadata": {},
   "outputs": [
    {
     "name": "stdout",
     "output_type": "stream",
     "text": [
      "Message: jabed \n",
      "Message Limit:15\n",
      "Insert time in second: 5\n"
     ]
    }
   ],
   "source": [
    "import pyautogui as jabed\n",
    "import time\n",
    "\n",
    "text = input(\"Message: \").strip()\n",
    "limit = int(input(\"Message Limit:\"))\n",
    "\n",
    "settime = int(input(\"Insert time in second: \"))\n",
    "time.sleep(settime)\n",
    "\n",
    "i = 0\n",
    "while i < limit:\n",
    "    for counting in range(limit):\n",
    "        jabed.write(text +\" \"+ str(counting + 1))\n",
    "        jabed.press(\"Enter\")\n",
    "        i+=1\n",
    "    "
   ]
  },
  {
   "cell_type": "code",
   "execution_count": null,
   "id": "3b230ecb",
   "metadata": {},
   "outputs": [],
   "source": []
  }
 ],
 "metadata": {
  "kernelspec": {
   "display_name": "Python 3 (ipykernel)",
   "language": "python",
   "name": "python3"
  },
  "language_info": {
   "codemirror_mode": {
    "name": "ipython",
    "version": 3
   },
   "file_extension": ".py",
   "mimetype": "text/x-python",
   "name": "python",
   "nbconvert_exporter": "python",
   "pygments_lexer": "ipython3",
   "version": "3.9.13"
  }
 },
 "nbformat": 4,
 "nbformat_minor": 5
}
