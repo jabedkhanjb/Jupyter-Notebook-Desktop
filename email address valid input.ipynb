{
 "cells": [
  {
   "cell_type": "code",
   "execution_count": 2,
   "id": "e6f66118",
   "metadata": {},
   "outputs": [
    {
     "name": "stdout",
     "output_type": "stream",
     "text": [
      "email address: mjabed1s@semo.edu\n",
      "Valid Email\n"
     ]
    }
   ],
   "source": [
    "import re\n",
    "\n",
    "email = input(\"email address: \").strip()\n",
    "\n",
    "if re.search(r\"^\\w+@\\w+\\.(\\w+\\.)?(com|org|edu|bd)$\", email, re.IGNORECASE):\n",
    "    print('Valid Email')\n",
    "else:\n",
    "    print('Invalid Email')"
   ]
  }
 ],
 "metadata": {
  "kernelspec": {
   "display_name": "Python 3 (ipykernel)",
   "language": "python",
   "name": "python3"
  },
  "language_info": {
   "codemirror_mode": {
    "name": "ipython",
    "version": 3
   },
   "file_extension": ".py",
   "mimetype": "text/x-python",
   "name": "python",
   "nbconvert_exporter": "python",
   "pygments_lexer": "ipython3",
   "version": "3.9.13"
  }
 },
 "nbformat": 4,
 "nbformat_minor": 5
}
