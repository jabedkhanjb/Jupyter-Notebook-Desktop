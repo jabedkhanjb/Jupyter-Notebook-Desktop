{
 "cells": [
  {
   "cell_type": "markdown",
   "id": "9dfad861",
   "metadata": {},
   "source": [
    "# Task on Python\n",
    "\n",
    "1) create a function, passing arguments on it & 7 minutes presentation about function and its working principle\n",
    "\n",
    "2) Class and objects, 7 minutes presentation about its working principle\n"
   ]
  },
  {
   "cell_type": "code",
   "execution_count": 2,
   "id": "97f7efe3",
   "metadata": {
    "scrolled": true
   },
   "outputs": [
    {
     "name": "stdout",
     "output_type": "stream",
     "text": [
      "This is our first project class\n"
     ]
    }
   ],
   "source": [
    "def c1():\n",
    "    print(\"This is our first project class\")\n",
    "    \n",
    "c1()"
   ]
  },
  {
   "cell_type": "code",
   "execution_count": 15,
   "id": "712f895b",
   "metadata": {},
   "outputs": [
    {
     "name": "stdout",
     "output_type": "stream",
     "text": [
      "Enter your first name:\n",
      "mahfuz islam khan\n",
      "Enter your last name:\n",
      "jabed\n",
      "Enter your Major: \n",
      "B.Sc in CSE\n",
      "\n",
      "\n",
      "\n",
      "First Name: Mahfuz Islam Khan\n",
      "Last Name: Jabed\n",
      "Subject: B.Sc in CSE\n"
     ]
    }
   ],
   "source": [
    "def name(fname, lname, degree):\n",
    "    print(\"\\n\\n\")\n",
    "    print(f\"First Name: {fname}\")\n",
    "    print(f\"Last Name: {lname}\")\n",
    "    print(f\"Subject: {degree}\")\n",
    "    \n",
    "    \n",
    "name(fname = input(\"Enter your first name:\\n\").strip().title(),\n",
    "    lname = input(\"Enter your last name:\\n\").strip().title(),\n",
    "    degree = input(\"Enter your Major: \\n\").strip()\n",
    "    )\n"
   ]
  },
  {
   "cell_type": "code",
   "execution_count": 18,
   "id": "78db14a5",
   "metadata": {},
   "outputs": [
    {
     "name": "stdout",
     "output_type": "stream",
     "text": [
      "I'm Good at PYTHON\n"
     ]
    }
   ],
   "source": [
    "def myfunction(*pl):\n",
    "    print(f\"I'm Good at {pl[3]}\")\n",
    "    \n",
    "myfunction(\"HTML\", \"CSS\", \"JAVASCRIPT\", \"PYTHON\", \"C\", \"C++\")"
   ]
  },
  {
   "cell_type": "code",
   "execution_count": 19,
   "id": "78129079",
   "metadata": {},
   "outputs": [
    {
     "name": "stdout",
     "output_type": "stream",
     "text": [
      "The youngest child is Hammy\n"
     ]
    }
   ],
   "source": [
    "def myfunc(c1, c2, c3):\n",
    "    print(f\"The youngest child is {c3}\")\n",
    "    \n",
    "myfunc(c1 = \"Enna\", c2 = \"Emma\", c3 = \"Hammy\")"
   ]
  },
  {
   "cell_type": "code",
   "execution_count": 21,
   "id": "ca9326cb",
   "metadata": {},
   "outputs": [
    {
     "name": "stdout",
     "output_type": "stream",
     "text": [
      "My firstname is Mahfuz Islam\n"
     ]
    }
   ],
   "source": [
    "def myfunction(**name):\n",
    "    print(\"My firstname is \" + name[\"fname\"])\n",
    "    \n",
    "\n",
    "myfunction(fname = \"Mahfuz Islam\", mname = \"Khan\", lname = \"Jabed\")"
   ]
  },
  {
   "cell_type": "code",
   "execution_count": 23,
   "id": "c1db85fa",
   "metadata": {},
   "outputs": [
    {
     "name": "stdout",
     "output_type": "stream",
     "text": [
      "I grow up in Bangladesh\n",
      "I grow up in The USA\n"
     ]
    }
   ],
   "source": [
    "def function(country = \"Bangladesh\"):\n",
    "    print(f\"I grow up in {country}\")\n",
    "    \n",
    "function()\n",
    "function(\"The USA\")"
   ]
  },
  {
   "cell_type": "code",
   "execution_count": 32,
   "id": "38bf6a7b",
   "metadata": {},
   "outputs": [
    {
     "name": "stdout",
     "output_type": "stream",
     "text": [
      "apple\n",
      "banana\n",
      "cherry\n"
     ]
    }
   ],
   "source": [
    "def func(food):\n",
    "    for item in food:\n",
    "        print(item)\n",
    "        \n",
    "fruits = [\"apple\", \"banana\", \"cherry\"]\n",
    "func(fruits)"
   ]
  },
  {
   "cell_type": "code",
   "execution_count": 33,
   "id": "3fdb5f61",
   "metadata": {},
   "outputs": [
    {
     "name": "stdout",
     "output_type": "stream",
     "text": [
      "25\n"
     ]
    }
   ],
   "source": [
    "def func(x):\n",
    "    return x * 5\n",
    "\n",
    "print(func(5))"
   ]
  },
  {
   "cell_type": "code",
   "execution_count": 45,
   "id": "d233f749",
   "metadata": {},
   "outputs": [
    {
     "name": "stdout",
     "output_type": "stream",
     "text": [
      "apple\n",
      "banana\n",
      "cherry\n"
     ]
    }
   ],
   "source": [
    "def func(food):\n",
    "    for item in food:\n",
    "        print(item)\n",
    "        \n",
    "def myfunction():\n",
    "    pass\n",
    "        \n",
    "fruits = [\"apple\", \"banana\", \"cherry\"]\n",
    "func(fruits)"
   ]
  },
  {
   "cell_type": "code",
   "execution_count": 7,
   "id": "d46c7a4b",
   "metadata": {
    "scrolled": true
   },
   "outputs": [
    {
     "name": "stdout",
     "output_type": "stream",
     "text": [
      "Recursion Example Results:\n",
      "1\n",
      "3\n",
      "6\n",
      "10\n"
     ]
    },
    {
     "data": {
      "text/plain": [
       "10"
      ]
     },
     "execution_count": 7,
     "metadata": {},
     "output_type": "execute_result"
    }
   ],
   "source": [
    "def recure(value):\n",
    "    if value > 0:\n",
    "        result = value + recure(value - 1)\n",
    "        print(result)\n",
    "        \n",
    "    else:\n",
    "        result = 0\n",
    "    return result\n",
    "\n",
    "print(\"Recursion Example Results:\")\n",
    "recure(4)"
   ]
  },
  {
   "cell_type": "code",
   "execution_count": 6,
   "id": "aa7e4bdb",
   "metadata": {
    "scrolled": true
   },
   "outputs": [
    {
     "name": "stdout",
     "output_type": "stream",
     "text": [
      "1\n",
      "2\n",
      "3\n",
      "4\n",
      "5\n",
      "6\n",
      "7\n",
      "8\n",
      "9\n",
      "10\n"
     ]
    }
   ],
   "source": [
    "def rec(x):\n",
    "    if x > 10:\n",
    "        return\n",
    "    print(x)\n",
    "    rec(x+1)\n",
    "    \n",
    "rec(1)"
   ]
  },
  {
   "cell_type": "code",
   "execution_count": null,
   "id": "6beb62bf",
   "metadata": {},
   "outputs": [],
   "source": []
  }
 ],
 "metadata": {
  "kernelspec": {
   "display_name": "Python 3 (ipykernel)",
   "language": "python",
   "name": "python3"
  },
  "language_info": {
   "codemirror_mode": {
    "name": "ipython",
    "version": 3
   },
   "file_extension": ".py",
   "mimetype": "text/x-python",
   "name": "python",
   "nbconvert_exporter": "python",
   "pygments_lexer": "ipython3",
   "version": "3.11.1"
  }
 },
 "nbformat": 4,
 "nbformat_minor": 5
}
