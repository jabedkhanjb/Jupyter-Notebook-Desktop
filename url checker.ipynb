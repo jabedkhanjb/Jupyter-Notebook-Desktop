{
 "cells": [
  {
   "cell_type": "code",
   "execution_count": 3,
   "id": "40868a5d",
   "metadata": {},
   "outputs": [
    {
     "name": "stdout",
     "output_type": "stream",
     "text": [
      "URL: twitter.com/jabedkhanjb\n",
      "Invalid URL\n"
     ]
    }
   ],
   "source": [
    "import re\n",
    "\n",
    "user_input = input(\"URL: \").strip()\n",
    "if match:= re.search(r\"^(?:https?://)?(?:www\\.)?(?:[a-z0-9]+)\\.(?:com|net|org|edu)\\/([a-z0-9._]+)\", user_input, re.IGNORECASE):\n",
    "    print(f\"Username: {match.group(1)}\")\n",
    "else:\n",
    "    print(\"Invalid URL\")"
   ]
  },
  {
   "cell_type": "code",
   "execution_count": null,
   "id": "b4e49c2d",
   "metadata": {},
   "outputs": [],
   "source": []
  }
 ],
 "metadata": {
  "kernelspec": {
   "display_name": "Python 3 (ipykernel)",
   "language": "python",
   "name": "python3"
  },
  "language_info": {
   "codemirror_mode": {
    "name": "ipython",
    "version": 3
   },
   "file_extension": ".py",
   "mimetype": "text/x-python",
   "name": "python",
   "nbconvert_exporter": "python",
   "pygments_lexer": "ipython3",
   "version": "3.9.13"
  }
 },
 "nbformat": 4,
 "nbformat_minor": 5
}
